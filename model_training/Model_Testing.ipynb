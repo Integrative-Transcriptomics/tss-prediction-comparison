{
 "cells": [
  {
   "cell_type": "markdown",
   "id": "ec48e059-e124-4a66-aa1c-82de3fe78378",
   "metadata": {},
   "source": [
    "# Comparison of TSS classifier Performance of multiple Datasets\n",
    "In this notebook, the classifier trained in Model_Training is tested on multiple Datasets"
   ]
  },
  {
   "cell_type": "code",
   "execution_count": 1,
   "id": "0d61411b-1ead-43da-ab46-63a906755a83",
   "metadata": {},
   "outputs": [],
   "source": [
    "import sys\n",
    "sys.path.append('../')"
   ]
  },
  {
   "cell_type": "code",
   "execution_count": 2,
   "id": "0b9f49d6-4f22-4bcf-b6c8-f8a14b0163e1",
   "metadata": {},
   "outputs": [],
   "source": [
    "from app.job import JobObject as jo"
   ]
  },
  {
   "cell_type": "code",
   "execution_count": 3,
   "id": "667dac6b-0551-4431-8392-83828ce946b4",
   "metadata": {},
   "outputs": [],
   "source": [
    "from app import TSSclassifier as cs"
   ]
  },
  {
   "cell_type": "code",
   "execution_count": 4,
   "id": "e3239f8d-f03a-4264-8a8e-73ca77efaa76",
   "metadata": {},
   "outputs": [],
   "source": [
    "def jaccard(common, a, b):\n",
    "    return(common/(a + b - common))"
   ]
  },
  {
   "cell_type": "code",
   "execution_count": 5,
   "id": "dcb69104-6aa7-4ba2-b94f-db46a2f91973",
   "metadata": {},
   "outputs": [],
   "source": [
    "def precision(common, a):\n",
    "    if(a != 0):\n",
    "        return (common/a)\n",
    "    else:\n",
    "        return 0"
   ]
  },
  {
   "cell_type": "code",
   "execution_count": 6,
   "id": "ca883e8a-4900-43d0-adb2-ce75def9dfa3",
   "metadata": {},
   "outputs": [],
   "source": [
    "def recall(common, b):\n",
    "    if(b != 0):\n",
    "        return (common/b)\n",
    "    else:\n",
    "        return 0"
   ]
  },
  {
   "cell_type": "code",
   "execution_count": 7,
   "id": "f0c4628d-f0c2-4b16-bfca-0bfa8df92bb6",
   "metadata": {},
   "outputs": [],
   "source": [
    "import glob\n",
    "import os"
   ]
  },
  {
   "cell_type": "code",
   "execution_count": 8,
   "id": "c1e15305-b68f-46fe-82e9-1b1eb1ee9b9c",
   "metadata": {},
   "outputs": [],
   "source": [
    "prediction_time = []"
   ]
  },
  {
   "cell_type": "code",
   "execution_count": 9,
   "id": "af720acb-4617-4f26-b492-7f26456c7aa0",
   "metadata": {},
   "outputs": [],
   "source": [
    "sample_size = []"
   ]
  },
  {
   "cell_type": "code",
   "execution_count": 10,
   "id": "0c1e15dd-680d-4348-972e-e65d22875331",
   "metadata": {},
   "outputs": [],
   "source": [
    "import timeit"
   ]
  },
  {
   "cell_type": "markdown",
   "id": "0a955174-c95b-4124-895a-509df754169f",
   "metadata": {},
   "source": [
    "# Bacteroides"
   ]
  },
  {
   "cell_type": "code",
   "execution_count": 11,
   "id": "cf99e2e1-08b9-4105-bf94-a38cb4a4cdb9",
   "metadata": {},
   "outputs": [],
   "source": [
    "conditions = [\"ELP\", \"MLP\", \"Stat\"]"
   ]
  },
  {
   "cell_type": "code",
   "execution_count": 12,
   "id": "64c38042-2bed-49d0-ac96-2c2b249196be",
   "metadata": {},
   "outputs": [],
   "source": [
    "directory = \"Data/Subset_OnlyChrom/\""
   ]
  },
  {
   "cell_type": "code",
   "execution_count": 13,
   "id": "6e2c5a7c-49cc-4f1e-a902-34be44c7701f",
   "metadata": {},
   "outputs": [],
   "source": [
    "pattern_forward = os.path.join(directory, '*forward*')\n",
    "pattern_reverse = os.path.join(directory, '*reverse*')"
   ]
  },
  {
   "cell_type": "code",
   "execution_count": 14,
   "id": "d4b42384-9bd2-4263-a182-6de903edfe58",
   "metadata": {},
   "outputs": [],
   "source": [
    "files_forward = glob.glob(pattern_forward)\n",
    "files_reverse = glob.glob(pattern_reverse)\n",
    "\n",
    "df_fordward = {}\n",
    "\n",
    "for condition in conditions:\n",
    "    file_list = []\n",
    "    for file_path in files_forward:\n",
    "            if(condition in str(file_path)):\n",
    "                file_list += [file_path]\n",
    "    df_fordward[condition] = file_list\n",
    "\n",
    "df_reverse = {}\n",
    "\n",
    "for condition in conditions:\n",
    "    file_list = []\n",
    "    for file_path in files_reverse:\n",
    "            if(condition in str(file_path)):\n",
    "                file_list += [file_path]\n",
    "    df_reverse[condition] = file_list"
   ]
  },
  {
   "cell_type": "code",
   "execution_count": 15,
   "id": "34715306-595d-44a3-8b48-75fdf57ea68e",
   "metadata": {},
   "outputs": [],
   "source": [
    "tss_by_type = {}\n",
    "\n",
    "for condition in conditions:\n",
    "\n",
    "    start_time = timeit.default_timer()\n",
    "\n",
    "    if(condition == \"Stat\"):\n",
    "    \n",
    "        forward_object = jo.JobObject(filepaths=df_fordward[condition], name=\"forward\", condition_name=\"static\", \n",
    "                                      master_table_path=\"Data/Subset_OnlyChrom/MasterTable_chrom.tsv\", gff_path= \"Data/Subset_OnlyChrom/NC_004663.gff\", is_reverse_strand = False)\n",
    "        reverse_object = jo.JobObject(filepaths=df_reverse[condition], name=\"reverse\", condition_name=\"static\", \n",
    "                                      master_table_path=\"Data/Subset_OnlyChrom/MasterTable_chrom.tsv\", gff_path= \"Data/Subset_OnlyChrom/NC_004663.gff\", is_reverse_strand = True)\n",
    "    else:\n",
    "        forward_object = jo.JobObject(filepaths=df_fordward[condition], name=\"forward\", condition_name=condition, \n",
    "                                      master_table_path=\"Data/Subset_OnlyChrom/MasterTable_chrom.tsv\", gff_path= \"Data/Subset_OnlyChrom/NC_004663.gff\", is_reverse_strand = False)\n",
    "        reverse_object = jo.JobObject(filepaths=df_reverse[condition], name=\"reverse\", condition_name=condition, \n",
    "                                      master_table_path=\"Data/Subset_OnlyChrom/MasterTable_chrom.tsv\", gff_path= \"Data/Subset_OnlyChrom/NC_004663.gff\", is_reverse_strand = True)\n",
    "\n",
    "    forward_object.process()\n",
    "    reverse_object.process()\n",
    "\n",
    "    elapsed = timeit.default_timer() - start_time\n",
    "\n",
    "    prediction_time += [elapsed]\n",
    "\n",
    "    dataset_size_forward = forward_object.processedDF.index.values[-1]\n",
    "    dataset_size_reverse = reverse_object.processedDF.index.values[-1]\n",
    "\n",
    "    dataset_size = max(dataset_size_forward, dataset_size_reverse)\n",
    "\n",
    "    sample_size += [dataset_size]\n",
    "    \n",
    "    masterTable_forward = forward_object.master_table\n",
    "    common_forward = forward_object.common_tss\n",
    "    classifed_forward = forward_object.classified_tss\n",
    "\n",
    "    masterTable_reverse = reverse_object.master_table\n",
    "    common_reverse = reverse_object.common_tss\n",
    "    classifed_reverse = reverse_object.classified_tss\n",
    "\n",
    "    for tss_type in cs.TSSType:\n",
    "        master_table_filtered_forward = masterTable_forward[masterTable_forward[\"TSS type\"] == tss_type.value]\n",
    "        master_table_filtered_reverse = masterTable_reverse[masterTable_reverse[\"TSS type\"] == tss_type.value]\n",
    "\n",
    "        classified_filtered_forward = classifed_forward[classifed_forward[\"TSS type\"] == tss_type.value]\n",
    "        classified_filtered_reverse = classifed_reverse[classifed_reverse[\"TSS type\"] == tss_type.value]\n",
    "\n",
    "        common_filtered_forward = common_forward[common_forward[\"TSS type\"] == tss_type.value]\n",
    "        common_filtered_reverse = common_reverse[common_reverse[\"TSS type\"] == tss_type.value]\n",
    "        \n",
    "        if(tss_type.value not in tss_by_type.keys()):\n",
    "            save_dict = {}\n",
    "            save_dict[\"master_table\"] = list(master_table_filtered_forward[\"Pos\"].values) + list(master_table_filtered_reverse[\"Pos\"].values)\n",
    "            save_dict[\"common\"] = list(common_filtered_forward[\"Pos\"].values) + list(common_filtered_reverse[\"Pos\"].values)\n",
    "            save_dict[\"classified\"] = list(classified_filtered_forward[\"Pos\"].values) + list(classified_filtered_reverse[\"Pos\"].values)\n",
    "            tss_by_type[tss_type.value] = save_dict\n",
    "        else:\n",
    "            tss_by_type[tss_type.value][\"master_table\"] += list(master_table_filtered_forward[\"Pos\"].values) + list(master_table_filtered_reverse[\"Pos\"].values)\n",
    "            tss_by_type[tss_type.value][\"common\"] += list(common_filtered_forward[\"Pos\"].values) + list(common_filtered_reverse[\"Pos\"].values)\n",
    "            tss_by_type[tss_type.value][\"classified\"] += list(classified_filtered_forward[\"Pos\"].values) + list(classified_filtered_reverse[\"Pos\"].values)\n",
    "        "
   ]
  },
  {
   "cell_type": "code",
   "execution_count": 16,
   "id": "8fa70c62-dd69-4cd3-9771-8552329e96bc",
   "metadata": {},
   "outputs": [],
   "source": [
    "performance_dict = {}\n",
    "for tss_type in cs.TSSType:\n",
    "    tss_by_type[tss_type.value][\"master_table\"] = set(tss_by_type[tss_type.value][\"master_table\"])\n",
    "    tss_by_type[tss_type.value][\"common\"] = set(tss_by_type[tss_type.value][\"common\"])\n",
    "    tss_by_type[tss_type.value][\"classified\"] = set(tss_by_type[tss_type.value][\"classified\"])\n",
    "\n",
    "    common = len(tss_by_type[tss_type.value][\"common\"])\n",
    "    classified = len(tss_by_type[tss_type.value][\"classified\"])\n",
    "    master_table = len(tss_by_type[tss_type.value][\"master_table\"])\n",
    "    \n",
    "    performance_dict[tss_type.value] = {\"precision\": precision(common, classified), \"recall\": recall(common, master_table), \"jaccard\": jaccard(common, classified, master_table)}"
   ]
  },
  {
   "cell_type": "code",
   "execution_count": 17,
   "id": "1d0ee3bf-8a5e-4ef3-a71f-d28e87d61104",
   "metadata": {},
   "outputs": [],
   "source": [
    "performances_full = {}"
   ]
  },
  {
   "cell_type": "code",
   "execution_count": 18,
   "id": "6f5dd522-d2e1-466c-870a-f15966fde767",
   "metadata": {},
   "outputs": [],
   "source": [
    "performances_full[\"bacteroides chromosome\"] = performance_dict"
   ]
  },
  {
   "cell_type": "markdown",
   "id": "fe3c51f7-24f3-4393-98d7-45f00eac889d",
   "metadata": {},
   "source": [
    "# S.aureus"
   ]
  },
  {
   "cell_type": "code",
   "execution_count": 19,
   "id": "6afe1de3-4db6-4e3d-86aa-c330b3b16ed0",
   "metadata": {},
   "outputs": [],
   "source": [
    "conditions = [\"WT\", \"Rny3\"]"
   ]
  },
  {
   "cell_type": "code",
   "execution_count": 20,
   "id": "102f3384-8e63-4c91-939d-049b456afcb2",
   "metadata": {},
   "outputs": [],
   "source": [
    "directory = \"Data/Saureus/files\""
   ]
  },
  {
   "cell_type": "code",
   "execution_count": 21,
   "id": "26848c8c-2310-4ddc-8a92-f6efe75972ff",
   "metadata": {},
   "outputs": [],
   "source": [
    "pattern_forward = os.path.join(directory, '*forward*')\n",
    "pattern_reverse = os.path.join(directory, '*reverse*')"
   ]
  },
  {
   "cell_type": "code",
   "execution_count": 22,
   "id": "6d94d210-acda-4692-a43e-0fcc24c4236c",
   "metadata": {},
   "outputs": [],
   "source": [
    "files_forward = glob.glob(pattern_forward)\n",
    "files_reverse = glob.glob(pattern_reverse)\n",
    "\n",
    "df_fordward = {}\n",
    "\n",
    "for condition in conditions:\n",
    "    file_list = []\n",
    "    for file_path in files_forward:\n",
    "        if(condition == \"WT\"):\n",
    "            if(condition in str(file_path)):\n",
    "                file_list += [file_path]\n",
    "        else:\n",
    "            if(\"rny\" in str(file_path)):\n",
    "                file_list += [file_path]\n",
    "    df_fordward[condition] = file_list\n",
    "\n",
    "df_reverse = {}\n",
    "\n",
    "for condition in conditions:\n",
    "    file_list = []\n",
    "    for file_path in files_reverse:\n",
    "        if(condition == \"WT\"):\n",
    "            if(condition in str(file_path)):\n",
    "                file_list += [file_path]\n",
    "        else:\n",
    "            if(\"rny\" in str(file_path)):\n",
    "                file_list += [file_path]\n",
    "    df_reverse[condition] = file_list"
   ]
  },
  {
   "cell_type": "code",
   "execution_count": 23,
   "id": "a24c8b2f-1596-4ff7-ac7d-d5d7bd0933f5",
   "metadata": {},
   "outputs": [],
   "source": [
    "tss_by_type = {}\n",
    "\n",
    "for condition in conditions:\n",
    "\n",
    "    start_time = timeit.default_timer()\n",
    "   \n",
    "    forward_object = jo.JobObject(filepaths=df_fordward[condition], name=\"forward\", condition_name=condition, \n",
    "                                      master_table_path=\"Data/Saureus/MasterTable.tsv\", gff_path= \"Data/Saureus/files/NC_009641.gff\", is_reverse_strand = False)\n",
    "    reverse_object = jo.JobObject(filepaths=df_reverse[condition], name=\"reverse\", condition_name=condition, \n",
    "                                      master_table_path=\"Data/Saureus/MasterTable.tsv\", gff_path= \"Data/Saureus/files/NC_009641.gff\", is_reverse_strand = True)\n",
    "\n",
    "    forward_object.process()\n",
    "    reverse_object.process()\n",
    "\n",
    "    elapsed = timeit.default_timer() - start_time\n",
    "    prediction_time += [elapsed]\n",
    "\n",
    "    dataset_size_forward = forward_object.processedDF.index.values[-1]\n",
    "    dataset_size_reverse = reverse_object.processedDF.index.values[-1]\n",
    "\n",
    "    dataset_size = max(dataset_size_forward, dataset_size_reverse)\n",
    "\n",
    "    sample_size += [dataset_size]\n",
    "    \n",
    "    masterTable_forward = forward_object.master_table\n",
    "    common_forward = forward_object.common_tss\n",
    "    classifed_forward = forward_object.classified_tss\n",
    "\n",
    "    masterTable_reverse = reverse_object.master_table\n",
    "    common_reverse = reverse_object.common_tss\n",
    "    classifed_reverse = reverse_object.classified_tss\n",
    "\n",
    "    for tss_type in cs.TSSType:\n",
    "        master_table_filtered_forward = masterTable_forward[masterTable_forward[\"TSS type\"] == tss_type.value]\n",
    "        master_table_filtered_reverse = masterTable_reverse[masterTable_reverse[\"TSS type\"] == tss_type.value]\n",
    "\n",
    "        classified_filtered_forward = classifed_forward[classifed_forward[\"TSS type\"] == tss_type.value]\n",
    "        classified_filtered_reverse = classifed_reverse[classifed_reverse[\"TSS type\"] == tss_type.value]\n",
    "\n",
    "        common_filtered_forward = common_forward[common_forward[\"TSS type\"] == tss_type.value]\n",
    "        common_filtered_reverse = common_reverse[common_reverse[\"TSS type\"] == tss_type.value]\n",
    "        \n",
    "        if(tss_type.value not in tss_by_type.keys()):\n",
    "            save_dict = {}\n",
    "            save_dict[\"master_table\"] = list(master_table_filtered_forward[\"Pos\"].values) + list(master_table_filtered_reverse[\"Pos\"].values)\n",
    "            save_dict[\"common\"] = list(common_filtered_forward[\"Pos\"].values) + list(common_filtered_reverse[\"Pos\"].values)\n",
    "            save_dict[\"classified\"] = list(classified_filtered_forward[\"Pos\"].values) + list(classified_filtered_reverse[\"Pos\"].values)\n",
    "            tss_by_type[tss_type.value] = save_dict\n",
    "        else:\n",
    "            tss_by_type[tss_type.value][\"master_table\"] += list(master_table_filtered_forward[\"Pos\"].values) + list(master_table_filtered_reverse[\"Pos\"].values)\n",
    "            tss_by_type[tss_type.value][\"common\"] += list(common_filtered_forward[\"Pos\"].values) + list(common_filtered_reverse[\"Pos\"].values)\n",
    "            tss_by_type[tss_type.value][\"classified\"] += list(classified_filtered_forward[\"Pos\"].values) + list(classified_filtered_reverse[\"Pos\"].values)"
   ]
  },
  {
   "cell_type": "code",
   "execution_count": 24,
   "id": "3ca7c319-1cde-4b28-b2f2-6b254b898e3b",
   "metadata": {},
   "outputs": [],
   "source": [
    "performance_dict = {}\n",
    "for tss_type in cs.TSSType:\n",
    "    tss_by_type[tss_type.value][\"master_table\"] = set(tss_by_type[tss_type.value][\"master_table\"])\n",
    "    tss_by_type[tss_type.value][\"common\"] = set(tss_by_type[tss_type.value][\"common\"])\n",
    "    tss_by_type[tss_type.value][\"classified\"] = set(tss_by_type[tss_type.value][\"classified\"])\n",
    "\n",
    "    common = len(tss_by_type[tss_type.value][\"common\"])\n",
    "    classified = len(tss_by_type[tss_type.value][\"classified\"])\n",
    "    master_table = len(tss_by_type[tss_type.value][\"master_table\"])\n",
    "    \n",
    "    performance_dict[tss_type.value] = {\"precision\": precision(common, classified), \"recall\": recall(common, master_table), \"jaccard\": jaccard(common, classified, master_table)}"
   ]
  },
  {
   "cell_type": "code",
   "execution_count": 25,
   "id": "61f0e1da-a9cf-41d4-a016-712554992c57",
   "metadata": {},
   "outputs": [],
   "source": [
    "performances_full[\"S.aureus\"] = performance_dict"
   ]
  },
  {
   "cell_type": "markdown",
   "id": "2baeb086-4367-4787-b497-bb7345c1ad25",
   "metadata": {},
   "source": [
    "# Pseudomonas "
   ]
  },
  {
   "cell_type": "code",
   "execution_count": 26,
   "id": "42a35230-407b-4a81-953e-0712b9ba636e",
   "metadata": {},
   "outputs": [],
   "source": [
    "conditions = [\"infected\", \"uninfected\"]"
   ]
  },
  {
   "cell_type": "code",
   "execution_count": 27,
   "id": "6d03f043-b26e-402f-aaf7-6192205445a9",
   "metadata": {},
   "outputs": [],
   "source": [
    "directory = \"Data/Pseudomonas/files\""
   ]
  },
  {
   "cell_type": "code",
   "execution_count": 28,
   "id": "d48319d6-d9b1-49e4-b32c-231ba31eb114",
   "metadata": {},
   "outputs": [],
   "source": [
    "pattern_forward = os.path.join(directory, '*forward*')\n",
    "pattern_reverse = os.path.join(directory, '*reverse*')"
   ]
  },
  {
   "cell_type": "code",
   "execution_count": 29,
   "id": "49a57a8e-3157-497b-9222-76d8a042f545",
   "metadata": {},
   "outputs": [],
   "source": [
    "files_forward = glob.glob(pattern_forward)\n",
    "files_reverse = glob.glob(pattern_reverse)\n",
    "\n",
    "df_fordward = {}\n",
    "\n",
    "for condition in conditions:\n",
    "    file_list = []\n",
    "    for file_path in files_forward:\n",
    "        if(condition == \"infected\"):\n",
    "            if(condition in str(file_path) and \"uninfected\" not in str(file_path)):\n",
    "                file_list += [file_path]\n",
    "        else:\n",
    "            if(condition in str(file_path)):\n",
    "                file_list += [file_path]\n",
    "    df_fordward[condition] = file_list\n",
    "\n",
    "df_reverse = {}\n",
    "\n",
    "for condition in conditions:\n",
    "    file_list = []\n",
    "    for file_path in files_reverse:\n",
    "        if(condition == \"infected\"):\n",
    "            if(condition in str(file_path) and \"uninfected\" not in str(file_path)):\n",
    "                file_list += [file_path]\n",
    "        else:\n",
    "            if(condition in str(file_path)):\n",
    "                file_list += [file_path]\n",
    "    df_reverse[condition] = file_list"
   ]
  },
  {
   "cell_type": "code",
   "execution_count": null,
   "id": "d8844e72-039e-438f-bb46-f5d0a25c42f2",
   "metadata": {},
   "outputs": [],
   "source": [
    "tss_by_type = {}\n",
    "\n",
    "for condition in conditions:\n",
    "\n",
    "    start_time = timeit.default_timer()\n",
    "\n",
    "    forward_object = jo.JobObject(filepaths=df_fordward[condition], name=\"forward\", condition_name=condition, \n",
    "                                      master_table_path=\"Data/Pseudomonas/MasterTable.tsv\", gff_path= \"Data/Pseudomonas/files/PAO1_annotation.gff\", is_reverse_strand = False)\n",
    "    reverse_object = jo.JobObject(filepaths=df_reverse[condition], name=\"reverse\", condition_name=condition, \n",
    "                                      master_table_path=\"Data/Pseudomonas/MasterTable.tsv\", gff_path= \"Data/Pseudomonas/files/PAO1_annotation.gff\", is_reverse_strand = True)\n",
    "\n",
    "    forward_object.process()\n",
    "    reverse_object.process()\n",
    "\n",
    "    elapsed = timeit.default_timer() - start_time\n",
    "    prediction_time += [elapsed]\n",
    "\n",
    "    dataset_size_forward = forward_object.processedDF.index.values[-1]\n",
    "    dataset_size_reverse = reverse_object.processedDF.index.values[-1]\n",
    "\n",
    "    dataset_size = max(dataset_size_forward, dataset_size_reverse)\n",
    "\n",
    "    sample_size += [dataset_size]\n",
    "    \n",
    "    masterTable_forward = forward_object.master_table\n",
    "    common_forward = forward_object.common_tss\n",
    "    classifed_forward = forward_object.classified_tss\n",
    "\n",
    "    masterTable_reverse = reverse_object.master_table\n",
    "    common_reverse = reverse_object.common_tss\n",
    "    classifed_reverse = reverse_object.classified_tss\n",
    "\n",
    "    for tss_type in cs.TSSType:\n",
    "        master_table_filtered_forward = masterTable_forward[masterTable_forward[\"TSS type\"] == tss_type.value]\n",
    "        master_table_filtered_reverse = masterTable_reverse[masterTable_reverse[\"TSS type\"] == tss_type.value]\n",
    "\n",
    "        classified_filtered_forward = classifed_forward[classifed_forward[\"TSS type\"] == tss_type.value]\n",
    "        classified_filtered_reverse = classifed_reverse[classifed_reverse[\"TSS type\"] == tss_type.value]\n",
    "\n",
    "        common_filtered_forward = common_forward[common_forward[\"TSS type\"] == tss_type.value]\n",
    "        common_filtered_reverse = common_reverse[common_reverse[\"TSS type\"] == tss_type.value]\n",
    "        \n",
    "        if(tss_type.value not in tss_by_type.keys()):\n",
    "            save_dict = {}\n",
    "            save_dict[\"master_table\"] = list(master_table_filtered_forward[\"Pos\"].values) + list(master_table_filtered_reverse[\"Pos\"].values)\n",
    "            save_dict[\"common\"] = list(common_filtered_forward[\"Pos\"].values) + list(common_filtered_reverse[\"Pos\"].values)\n",
    "            save_dict[\"classified\"] = list(classified_filtered_forward[\"Pos\"].values) + list(classified_filtered_reverse[\"Pos\"].values)\n",
    "            tss_by_type[tss_type.value] = save_dict\n",
    "        else:\n",
    "            tss_by_type[tss_type.value][\"master_table\"] += list(master_table_filtered_forward[\"Pos\"].values) + list(master_table_filtered_reverse[\"Pos\"].values)\n",
    "            tss_by_type[tss_type.value][\"common\"] += list(common_filtered_forward[\"Pos\"].values) + list(common_filtered_reverse[\"Pos\"].values)\n",
    "            tss_by_type[tss_type.value][\"classified\"] += list(classified_filtered_forward[\"Pos\"].values) + list(classified_filtered_reverse[\"Pos\"].values)"
   ]
  },
  {
   "cell_type": "code",
   "execution_count": null,
   "id": "b7f55adf-a103-49b6-bdf6-9af017e73834",
   "metadata": {},
   "outputs": [],
   "source": [
    "performance_dict = {}\n",
    "for tss_type in cs.TSSType:\n",
    "    tss_by_type[tss_type.value][\"master_table\"] = set(tss_by_type[tss_type.value][\"master_table\"])\n",
    "    tss_by_type[tss_type.value][\"common\"] = set(tss_by_type[tss_type.value][\"common\"])\n",
    "    tss_by_type[tss_type.value][\"classified\"] = set(tss_by_type[tss_type.value][\"classified\"])\n",
    "\n",
    "    common = len(tss_by_type[tss_type.value][\"common\"])\n",
    "    classified = len(tss_by_type[tss_type.value][\"classified\"])\n",
    "    master_table = len(tss_by_type[tss_type.value][\"master_table\"])\n",
    "    \n",
    "    performance_dict[tss_type.value] = {\"precision\": precision(common, classified), \"recall\": recall(common, master_table), \"jaccard\": jaccard(common, classified, master_table)}"
   ]
  },
  {
   "cell_type": "code",
   "execution_count": null,
   "id": "a7d691d2-52ed-4038-aa39-f80ad7cae0d4",
   "metadata": {},
   "outputs": [],
   "source": [
    "performances_full[\"pseudomonas\"] = performance_dict"
   ]
  },
  {
   "cell_type": "markdown",
   "id": "35a2b35e-a39f-41d8-befe-9e00082e64c1",
   "metadata": {},
   "source": [
    "# Bacteroides Plasmid"
   ]
  },
  {
   "cell_type": "code",
   "execution_count": null,
   "id": "ea3d481b-d3c7-4145-bc19-feb540c8e3ad",
   "metadata": {},
   "outputs": [],
   "source": [
    "conditions = [\"ELP\", \"MLP\", \"Stat\"]"
   ]
  },
  {
   "cell_type": "code",
   "execution_count": null,
   "id": "e42af830-2bf1-440b-bcfe-03f87ff5ee7d",
   "metadata": {},
   "outputs": [],
   "source": [
    "directory = \"Data/Subset_OnlyPlasmid/\""
   ]
  },
  {
   "cell_type": "code",
   "execution_count": null,
   "id": "85cd0c3f-b752-4ed1-8620-e1d3111cbee8",
   "metadata": {},
   "outputs": [],
   "source": [
    "pattern_forward = os.path.join(directory, '*forward*')\n",
    "pattern_reverse = os.path.join(directory, '*reverse*')"
   ]
  },
  {
   "cell_type": "code",
   "execution_count": null,
   "id": "36c0eda3-98ac-45f5-bf36-d62f5a4e4160",
   "metadata": {},
   "outputs": [],
   "source": [
    "files_forward = glob.glob(pattern_forward)\n",
    "files_reverse = glob.glob(pattern_reverse)\n",
    "\n",
    "df_fordward = {}\n",
    "\n",
    "for condition in conditions:\n",
    "    file_list = []\n",
    "    for file_path in files_forward:\n",
    "            if(condition in str(file_path)):\n",
    "                file_list += [file_path]\n",
    "    df_fordward[condition] = file_list\n",
    "\n",
    "df_reverse = {}\n",
    "\n",
    "for condition in conditions:\n",
    "    file_list = []\n",
    "    for file_path in files_reverse:\n",
    "            if(condition in str(file_path)):\n",
    "                file_list += [file_path]\n",
    "    df_reverse[condition] = file_list"
   ]
  },
  {
   "cell_type": "code",
   "execution_count": null,
   "id": "bb4837dd-0285-4090-9c60-d94fc94c9d22",
   "metadata": {},
   "outputs": [],
   "source": [
    "tss_by_type = {}\n",
    "\n",
    "for condition in conditions:\n",
    "\n",
    "    start_time = timeit.default_timer()\n",
    "\n",
    "    if(condition == \"Stat\"):\n",
    "    \n",
    "        forward_object = jo.JobObject(filepaths=df_fordward[condition], name=\"forward\", condition_name=\"static\", \n",
    "                                      master_table_path=\"Data/Subset_OnlyPlasmid/MasterTable_plasmid.tsv\", gff_path= \"Data/Subset_OnlyPlasmid/NC_004703.gff\", is_reverse_strand = False)\n",
    "        reverse_object = jo.JobObject(filepaths=df_reverse[condition], name=\"reverse\", condition_name=\"static\", \n",
    "                                      master_table_path=\"Data/Subset_OnlyPlasmid/MasterTable_plasmid.tsv\", gff_path= \"Data/Subset_OnlyPlasmid/NC_004703.gff\", is_reverse_strand = True)\n",
    "    else:\n",
    "        forward_object = jo.JobObject(filepaths=df_fordward[condition], name=\"forward\", condition_name=condition, \n",
    "                                      master_table_path=\"Data/Subset_OnlyPlasmid/MasterTable_plasmid.tsv\", gff_path= \"Data/Subset_OnlyPlasmid/NC_004703.gff\", is_reverse_strand = False)\n",
    "        reverse_object = jo.JobObject(filepaths=df_reverse[condition], name=\"reverse\", condition_name=condition, \n",
    "                                      master_table_path=\"Data/Subset_OnlyPlasmid/MasterTable_plasmid.tsv\", gff_path= \"Data/Subset_OnlyPlasmid/NC_004703.gff\", is_reverse_strand = True)\n",
    "\n",
    "    forward_object.process()\n",
    "    reverse_object.process()\n",
    "\n",
    "    elapsed = timeit.default_timer() - start_time\n",
    "    prediction_time += [elapsed]\n",
    "\n",
    "    dataset_size_forward = forward_object.processedDF.index.values[-1]\n",
    "    dataset_size_reverse = reverse_object.processedDF.index.values[-1]\n",
    "\n",
    "    dataset_size = max(dataset_size_forward, dataset_size_reverse)\n",
    "\n",
    "    sample_size += [dataset_size]\n",
    "    \n",
    "    masterTable_forward = forward_object.master_table\n",
    "    common_forward = forward_object.common_tss\n",
    "    classifed_forward = forward_object.classified_tss\n",
    "\n",
    "    masterTable_reverse = reverse_object.master_table\n",
    "    common_reverse = reverse_object.common_tss\n",
    "    classifed_reverse = reverse_object.classified_tss\n",
    "\n",
    "    print(classifed_forward)\n",
    "    print(classifed_reverse)\n",
    "\n",
    "    for tss_type in cs.TSSType:\n",
    "        master_table_filtered_forward = masterTable_forward[masterTable_forward[\"TSS type\"] == tss_type.value]\n",
    "        master_table_filtered_reverse = masterTable_reverse[masterTable_reverse[\"TSS type\"] == tss_type.value]\n",
    "\n",
    "        classified_filtered_forward = classifed_forward[classifed_forward[\"TSS type\"] == tss_type.value]\n",
    "        classified_filtered_reverse = classifed_reverse[classifed_reverse[\"TSS type\"] == tss_type.value]\n",
    "\n",
    "        common_filtered_forward = common_forward[common_forward[\"TSS type\"] == tss_type.value]\n",
    "        common_filtered_reverse = common_reverse[common_reverse[\"TSS type\"] == tss_type.value]\n",
    "        \n",
    "        if(tss_type.value not in tss_by_type.keys()):\n",
    "            save_dict = {}\n",
    "            save_dict[\"master_table\"] = list(master_table_filtered_forward[\"Pos\"].values) + list(master_table_filtered_reverse[\"Pos\"].values)\n",
    "            save_dict[\"common\"] = list(common_filtered_forward[\"Pos\"].values) + list(common_filtered_reverse[\"Pos\"].values)\n",
    "            save_dict[\"classified\"] = list(classified_filtered_forward[\"Pos\"].values) + list(classified_filtered_reverse[\"Pos\"].values)\n",
    "            tss_by_type[tss_type.value] = save_dict\n",
    "        else:\n",
    "            tss_by_type[tss_type.value][\"master_table\"] += list(master_table_filtered_forward[\"Pos\"].values) + list(master_table_filtered_reverse[\"Pos\"].values)\n",
    "            tss_by_type[tss_type.value][\"common\"] += list(common_filtered_forward[\"Pos\"].values) + list(common_filtered_reverse[\"Pos\"].values)\n",
    "            tss_by_type[tss_type.value][\"classified\"] += list(classified_filtered_forward[\"Pos\"].values) + list(classified_filtered_reverse[\"Pos\"].values)"
   ]
  },
  {
   "cell_type": "code",
   "execution_count": null,
   "id": "63af4241-2cb3-4af2-9848-6c6fc241aba3",
   "metadata": {},
   "outputs": [],
   "source": [
    "performance_dict = {}\n",
    "for tss_type in cs.TSSType:\n",
    "    tss_by_type[tss_type.value][\"master_table\"] = set(tss_by_type[tss_type.value][\"master_table\"])\n",
    "    tss_by_type[tss_type.value][\"common\"] = set(tss_by_type[tss_type.value][\"common\"])\n",
    "    tss_by_type[tss_type.value][\"classified\"] = set(tss_by_type[tss_type.value][\"classified\"])\n",
    "\n",
    "    common = len(tss_by_type[tss_type.value][\"common\"])\n",
    "    classified = len(tss_by_type[tss_type.value][\"classified\"])\n",
    "    master_table = len(tss_by_type[tss_type.value][\"master_table\"])\n",
    "    \n",
    "    performance_dict[tss_type.value] = {\"precision\": precision(common, classified), \"recall\": recall(common, master_table), \"jaccard\": jaccard(common, classified, master_table)}"
   ]
  },
  {
   "cell_type": "code",
   "execution_count": null,
   "id": "b3095d2b-81db-48c7-a323-6a2eb6efbecf",
   "metadata": {},
   "outputs": [],
   "source": [
    "performances_full[\"bacteroides plasmid\"] = performance_dict"
   ]
  },
  {
   "cell_type": "code",
   "execution_count": null,
   "id": "e510d7d5-6845-46c7-bb25-49b09e10ec3e",
   "metadata": {},
   "outputs": [],
   "source": [
    "categories = [tss_type.value for tss_type in cs.TSSType]"
   ]
  },
  {
   "cell_type": "code",
   "execution_count": null,
   "id": "ee559cde-6f2f-4bf4-9594-b71917cffb04",
   "metadata": {},
   "outputs": [],
   "source": [
    "datasets = list(performances_full.keys())"
   ]
  },
  {
   "cell_type": "code",
   "execution_count": null,
   "id": "8f3fe355-e78e-47ef-9c8d-965d4cc3dae4",
   "metadata": {},
   "outputs": [],
   "source": [
    "precision_data = {}\n",
    "recall_data = {}\n",
    "for category in categories:\n",
    "    category_acc_precision = []\n",
    "    category_acc_recall = []\n",
    "    for dataset in datasets:\n",
    "        category_acc_precision += [performances_full[dataset][category][\"precision\"]]\n",
    "        category_acc_recall += [performances_full[dataset][category][\"recall\"]]\n",
    "    precision_data[category] = category_acc_precision\n",
    "    recall_data[category] = category_acc_recall"
   ]
  },
  {
   "cell_type": "code",
   "execution_count": null,
   "id": "03e0416d-10d8-4992-83d5-9f2eb27a24d1",
   "metadata": {},
   "outputs": [],
   "source": [
    "import pandas as pd"
   ]
  },
  {
   "cell_type": "code",
   "execution_count": null,
   "id": "3e652651-8b2f-4fcb-9b04-21c881002dd1",
   "metadata": {},
   "outputs": [],
   "source": [
    "precision_df = pd.DataFrame(precision_data, index=datasets)\n",
    "recall_df = pd.DataFrame(recall_data, index=datasets)"
   ]
  },
  {
   "cell_type": "code",
   "execution_count": null,
   "id": "a1ca5123-8d52-4ca3-8b0f-5c6ae561764d",
   "metadata": {},
   "outputs": [],
   "source": [
    "# Number of categories\n",
    "N = len(categories)"
   ]
  },
  {
   "cell_type": "code",
   "execution_count": null,
   "id": "8cee3f45-0496-4d4e-ab07-17cfe706a572",
   "metadata": {},
   "outputs": [],
   "source": [
    "from math import pi\n",
    "import matplotlib.pyplot as plt"
   ]
  },
  {
   "cell_type": "code",
   "execution_count": null,
   "id": "da5f7bac-dd9a-4e69-b84f-9bba411bfb57",
   "metadata": {},
   "outputs": [],
   "source": [
    "# Function to create radar chart\n",
    "def create_radar_chart(ax, precision, recall, title):\n",
    "    # Compute angle for each category\n",
    "    angles = [n / float(N) * 2 * pi for n in range(N)]\n",
    "    angles += angles[:1]\n",
    "\n",
    "    # Prepare data for plotting\n",
    "    precision_values = precision.tolist()\n",
    "    recall_values = recall.tolist()\n",
    "    \n",
    "    precision_values += precision_values[:1]\n",
    "    recall_values += recall_values[:1]\n",
    "    \n",
    "    # Plot precision\n",
    "    ax.plot(angles, precision_values, label='Precision', linewidth=2, linestyle='solid', color='blue')\n",
    "    ax.fill(angles, precision_values, alpha=0.25, color='blue')\n",
    "\n",
    "    # Plot recall\n",
    "    ax.plot(angles, recall_values, label='Recall', linewidth=2, linestyle='solid', color='green')\n",
    "    ax.fill(angles, recall_values, alpha=0.25, color='green')\n",
    "\n",
    "    # Add category labels\n",
    "    ax.set_xticks(angles[:-1])\n",
    "    ax.set_xticklabels(categories)\n",
    "\n",
    "    # Set radial limits\n",
    "    ax.set_ylim(0, 1)\n",
    "\n",
    "    # Set the title and legend\n",
    "    ax.set_title(title, size=12, color='black', y=1.1)\n",
    "    ax.legend(loc='upper right', bbox_to_anchor=(1.2, 1.13))"
   ]
  },
  {
   "cell_type": "code",
   "execution_count": null,
   "id": "cf7717d7-1e62-4038-a4a5-018569756770",
   "metadata": {},
   "outputs": [],
   "source": [
    "# Create a figure with subplots\n",
    "fig, axs = plt.subplots(2, 2, figsize=(8, 8), subplot_kw=dict(polar=True))\n",
    "axs = axs.flatten()  # Flatten the 2x2 array of axes for easy iteration\n",
    "\n",
    "# Plot radar charts for each dataset\n",
    "for i, dataset in enumerate(datasets):\n",
    "    create_radar_chart(axs[i], precision_df.loc[dataset], recall_df.loc[dataset], dataset)\n",
    "\n",
    "# Adjust layout to prevent overlap\n",
    "plt.tight_layout()\n",
    "plt.savefig('Radar_charts.png')\n",
    "plt.show()"
   ]
  },
  {
   "cell_type": "code",
   "execution_count": null,
   "id": "98e3cfd0-859d-4a94-b17b-858ea57bfebd",
   "metadata": {},
   "outputs": [],
   "source": [
    "fig = plt.figure(figsize=(8, 8))\n",
    "ax = fig.add_subplot(1, 1, 1)\n",
    "\n",
    "ax.scatter(sample_size[0:3]+sample_size[5:7], prediction_time[0:3]+prediction_time[5:7], color='blue')\n",
    "\n",
    "ax.set_xscale('linear')\n",
    "ax.set_yscale(\"linear\")"
   ]
  },
  {
   "cell_type": "code",
   "execution_count": null,
   "id": "59dc0384-c846-4bba-a998-1c804aedd8a7",
   "metadata": {},
   "outputs": [],
   "source": [
    "import numpy as np\n",
    "from scipy.optimize import curve_fit\n",
    "import matplotlib.pyplot as plt\n",
    "\n",
    "sample_sizes = np.array(sample_size)\n",
    "runtimes = np.array(prediction_time)\n",
    "\n",
    "def linear(x, a, b):\n",
    "    return a * x + b\n",
    "\n",
    "popt_linear, _ = curve_fit(linear, sample_sizes, runtimes)\n",
    "\n",
    "fig = plt.figure(figsize=(8, 8))\n",
    "ax = fig.add_subplot(1, 1, 1)\n",
    "ax.set_xscale('linear')\n",
    "\n",
    "from sklearn.metrics import r2_score\n",
    "\n",
    "r2 = r2_score(runtimes, linear(sample_sizes, *popt_linear))\n",
    "\n",
    "# Plot the data and the fit\n",
    "plt.scatter(sample_sizes, runtimes, label='Samples', color='black')\n",
    "plt.plot([32840,6255429], linear(np.array([32840,6255429]), *popt_linear), label=f'Fit: linear\\n$R^2 = {r2:.4f}$', color='green')\n",
    "\n",
    "ax.set_xscale('log')\n",
    "ax.set_yscale('log')\n",
    "\n",
    "plt.title('TSSplorer Runtime vs. Sample Size')\n",
    "plt.xlabel('Sample Size (bp)')\n",
    "plt.ylabel('Runtime (seconds)')\n",
    "plt.legend()\n",
    "plt.grid(True)\n",
    "plt.savefig('Runtime.png')\n",
    "plt.show()\n"
   ]
  },
  {
   "cell_type": "code",
   "execution_count": null,
   "id": "b55bf12b-8f34-4a1d-bb5e-a83b38dc7594",
   "metadata": {},
   "outputs": [],
   "source": []
  }
 ],
 "metadata": {
  "kernelspec": {
   "display_name": "Python 3 (ipykernel)",
   "language": "python",
   "name": "python3"
  },
  "language_info": {
   "codemirror_mode": {
    "name": "ipython",
    "version": 3
   },
   "file_extension": ".py",
   "mimetype": "text/x-python",
   "name": "python",
   "nbconvert_exporter": "python",
   "pygments_lexer": "ipython3",
   "version": "3.12.4"
  }
 },
 "nbformat": 4,
 "nbformat_minor": 5
}
